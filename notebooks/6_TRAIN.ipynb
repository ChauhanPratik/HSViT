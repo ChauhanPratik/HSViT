{
 "cells": [
  {
   "cell_type": "code",
   "execution_count": null,
   "metadata": {},
   "outputs": [],
   "source": [
    "import torch\n",
    "import numpy as np\n",
    "import torch.nn as nn\n",
    "import torch.optim as optim\n",
    "from torch.utils.data import DataLoader, Subset\n",
    "from torchvision import transforms\n",
    "import mat73\n",
    "import os\n",
    "\n",
    "import sys\n",
    "sys.path.append(\"..\")\n",
    "\n",
    "from hsvit.dataset import BrainTumorDataset\n",
    "from hsvit.model import ViTBackbone\n",
    "from hsvit.utils import compute_classification_metrics"
   ]
  },
  {
   "cell_type": "code",
   "execution_count": 9,
   "metadata": {},
   "outputs": [],
   "source": [
    "device = torch.device(\"cuda\" if torch.cuda.is_available() else \"cpu\")\n",
    "root_dir = \"/Users/darshdave/Documents/BRAINTUMOR/DATASET/FILES/\"\n",
    "cvind_path = \"/Users/darshdave/Documents/BRAINTUMOR/DATASET/cvind.mat\""
   ]
  },
  {
   "cell_type": "code",
   "execution_count": 3,
   "metadata": {},
   "outputs": [],
   "source": [
    "split_data = mat73.loadmat(cvind_path)\n",
    "split_labels = split_data['cvind']\n",
    "\n",
    "train_ids = np.where(np.array(split_labels) == 1)[0]\n",
    "val_ids   = np.where(np.array(split_labels) == 2)[0]"
   ]
  },
  {
   "cell_type": "code",
   "execution_count": null,
   "metadata": {},
   "outputs": [],
   "source": [
    "dataset = BrainTumorDataset(root_dir)\n",
    "train_loader = DataLoader(Subset(dataset, train_ids), batch_size=8, shuffle=True)\n",
    "val_loader   = DataLoader(Subset(dataset, val_ids), batch_size=8, shuffle=False)"
   ]
  },
  {
   "cell_type": "code",
   "execution_count": 5,
   "metadata": {},
   "outputs": [],
   "source": [
    "model = ViTBackbone().to(device)\n",
    "criterion_cls = nn.CrossEntropyLoss()\n",
    "criterion_bbox = nn.MSELoss()\n",
    "criterion_mask = nn.BCELoss()\n",
    "optimizer = optim.Adam(model.parameters(), lr=1e-4)"
   ]
  },
  {
   "cell_type": "code",
   "execution_count": null,
   "metadata": {},
   "outputs": [],
   "source": [
    "EPOCHS = 10\n",
    "best_acc = 0.0\n",
    "for epoch in range(EPOCHS):\n",
    "    model.train()\n",
    "    train_loss = 0.0\n",
    "    for images, labels in train_loader:\n",
    "        images = images.to(device)\n",
    "        labels = labels.to(device) - 1  # convert labels to 0-based\n",
    "\n",
    "        class_logits, bbox_preds, boundary_preds = model(images)\n",
    "\n",
    "        bbox_targets = torch.randn_like(bbox_preds).to(device)\n",
    "        mask_targets = torch.rand_like(boundary_preds).to(device)\n",
    "\n",
    "        loss_cls = criterion_cls(class_logits, labels)\n",
    "        loss_bbox = criterion_bbox(bbox_preds, bbox_targets)\n",
    "        loss_mask = criterion_mask(boundary_preds, mask_targets)\n",
    "\n",
    "        loss = loss_cls + loss_bbox + loss_mask\n",
    "\n",
    "        optimizer.zero_grad()\n",
    "        loss.backward()\n",
    "        optimizer.step()\n",
    "\n",
    "        train_loss += loss.item()\n",
    "\n",
    "    # Validation\n",
    "    model.eval()\n",
    "    correct = 0\n",
    "    total = 0\n",
    "    with torch.no_grad():\n",
    "        for images, labels in val_loader:\n",
    "            images = images.to(device)\n",
    "            labels = labels.to(device) - 1\n",
    "            class_logits, _, _ = model(images)\n",
    "            preds = torch.argmax(class_logits, dim=1)\n",
    "            correct += (preds == labels).sum().item()\n",
    "            total += labels.size(0)\n",
    "    acc = 100.0 * correct / total\n",
    "\n",
    "    # Save best model\n",
    "    if acc > best_acc:\n",
    "        best_acc = acc\n",
    "        torch.save(model.state_dict(), \"/Users/darshdave/Documents/BRAINTUMOR/HSViT/model-weight/hsvit_best.pt\")\n",
    "        print(f\"✅ Saved new best model at epoch {epoch+1} with accuracy {acc:.2f}%\")\n",
    "\n",
    "    print(f\"[Epoch {epoch+1}/{EPOCHS}] Train Loss: {train_loss:.4f} | Val Accuracy: {acc:.2f}%\")"
   ]
  },
  {
   "cell_type": "code",
   "execution_count": null,
   "metadata": {},
   "outputs": [
    {
     "name": "stdout",
     "output_type": "stream",
     "text": [
      "✅ Saved final model\n"
     ]
    }
   ],
   "source": [
    "torch.save(model.state_dict(), \"/Users/darshdave/Documents/BRAINTUMOR/HSViT/model-weight/hsvit_final.pt\")\n",
    "print(\"✅ Saved final model\")"
   ]
  },
  {
   "cell_type": "code",
   "execution_count": null,
   "metadata": {},
   "outputs": [],
   "source": []
  }
 ],
 "metadata": {
  "kernelspec": {
   "display_name": "Python 3",
   "language": "python",
   "name": "python3"
  },
  "language_info": {
   "codemirror_mode": {
    "name": "ipython",
    "version": 3
   },
   "file_extension": ".py",
   "mimetype": "text/x-python",
   "name": "python",
   "nbconvert_exporter": "python",
   "pygments_lexer": "ipython3",
   "version": "3.10.1"
  }
 },
 "nbformat": 4,
 "nbformat_minor": 2
}
