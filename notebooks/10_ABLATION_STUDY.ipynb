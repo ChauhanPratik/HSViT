{
 "cells": [
  {
   "cell_type": "code",
   "execution_count": 1,
   "metadata": {},
   "outputs": [],
   "source": [
    "import torch\n",
    "import numpy as np\n",
    "import matplotlib.pyplot as plt\n",
    "from sklearn.metrics import accuracy_score, f1_score\n",
    "from torch.utils.data import DataLoader, Subset\n",
    "from torchvision import transforms\n",
    "from torch.nn.functional import interpolate\n",
    "import os\n",
    "import sys\n",
    "import mat73\n",
    "sys.path.append(\"..\")\n",
    "\n",
    "from hsvit.dataset import BrainTumorDataset\n",
    "from hsvit.utils import compute_classification_metrics\n",
    "from hsvit.model import ViTBackbone\n",
    "import torch.nn as nn\n",
    "import torch.optim as optim"
   ]
  },
  {
   "cell_type": "code",
   "execution_count": 2,
   "metadata": {},
   "outputs": [],
   "source": [
    "root_dir = \"/Users/darshdave/Documents/BRAINTUMOR/DATASET/FILES/\"\n",
    "cvind_path = \"/Users/darshdave/Documents/BRAINTUMOR/DATASET/cvind.mat\"\n",
    "model_dir = \"/Users/darshdave/Documents/BRAINTUMOR/HSViT/model-weight/\"\n",
    "device = torch.device(\"cuda\" if torch.cuda.is_available() else \"cpu\")"
   ]
  },
  {
   "cell_type": "code",
   "execution_count": null,
   "metadata": {},
   "outputs": [],
   "source": [
    "cvinds = mat73.loadmat(cvind_path)['cvind']\n",
    "test_ids = np.where(np.array(cvinds) == 3)[0]\n",
    "train_ids = np.where(np.array(cvinds) == 1)[0]\n",
    "val_ids = np.where(np.array(cvinds) == 2)[0]"
   ]
  },
  {
   "cell_type": "code",
   "execution_count": 4,
   "metadata": {},
   "outputs": [],
   "source": [
    "class ResizedDataset(torch.utils.data.Dataset):\n",
    "    def __init__(self, dataset, target_size=(224, 224)):\n",
    "        self.dataset = dataset\n",
    "        self.target_size = target_size\n",
    "\n",
    "    def __len__(self):\n",
    "        return len(self.dataset)\n",
    "\n",
    "    def __getitem__(self, idx):\n",
    "        image, label = self.dataset[idx]\n",
    "        if image.shape[-1] != self.target_size[1]:\n",
    "            image = interpolate(image.unsqueeze(0), size=self.target_size, mode='bilinear', align_corners=False).squeeze(0)\n",
    "        return image, label"
   ]
  },
  {
   "cell_type": "code",
   "execution_count": 5,
   "metadata": {},
   "outputs": [],
   "source": [
    "full_dataset = BrainTumorDataset(root_dir)\n",
    "train_dataset = ResizedDataset(Subset(full_dataset, train_ids))\n",
    "val_dataset = ResizedDataset(Subset(full_dataset, val_ids))\n",
    "test_dataset = ResizedDataset(Subset(full_dataset, test_ids))\n",
    "\n",
    "train_loader = DataLoader(train_dataset, batch_size=4, shuffle=True)\n",
    "val_loader = DataLoader(val_dataset, batch_size=4, shuffle=False)\n",
    "test_loader = DataLoader(test_dataset, batch_size=4, shuffle=False)"
   ]
  },
  {
   "cell_type": "code",
   "execution_count": 6,
   "metadata": {},
   "outputs": [],
   "source": [
    "ablations = {\n",
    "    \"Full HSViT\": ViTBackbone(use_clar=True, use_tcm=True, use_boundary_head=True),\n",
    "    \"No TCM\": ViTBackbone(use_clar=True, use_tcm=False, use_boundary_head=True),\n",
    "    \"No Boundary Head\": ViTBackbone(use_clar=True, use_tcm=True, use_boundary_head=False),\n",
    "    \"No CLAR\": ViTBackbone(use_clar=False, use_tcm=True, use_boundary_head=True),\n",
    "}"
   ]
  },
  {
   "cell_type": "code",
   "execution_count": 7,
   "metadata": {},
   "outputs": [
    {
     "name": "stdout",
     "output_type": "stream",
     "text": [
      "\n",
      "🧪 Training/Evaluating: Full HSViT\n",
      "[Epoch 1/3] Loss: 20.6256\n",
      "[Epoch 2/3] Loss: 17.7676\n",
      "[Epoch 3/3] Loss: 17.3386\n",
      "\n",
      "🧪 Training/Evaluating: No TCM\n"
     ]
    },
    {
     "name": "stderr",
     "output_type": "stream",
     "text": [
      "/Users/darshdave/.pyenv/versions/3.10.1/lib/python3.10/site-packages/sklearn/metrics/_classification.py:1565: UndefinedMetricWarning: Precision is ill-defined and being set to 0.0 in labels with no predicted samples. Use `zero_division` parameter to control this behavior.\n",
      "  _warn_prf(average, modifier, f\"{metric.capitalize()} is\", len(result))\n"
     ]
    },
    {
     "name": "stdout",
     "output_type": "stream",
     "text": [
      "[Epoch 1/3] Loss: 21.3867\n",
      "[Epoch 2/3] Loss: 18.8180\n",
      "[Epoch 3/3] Loss: 20.4516\n",
      "\n",
      "🧪 Training/Evaluating: No Boundary Head\n"
     ]
    },
    {
     "name": "stderr",
     "output_type": "stream",
     "text": [
      "/Users/darshdave/.pyenv/versions/3.10.1/lib/python3.10/site-packages/sklearn/metrics/_classification.py:1565: UndefinedMetricWarning: Precision is ill-defined and being set to 0.0 in labels with no predicted samples. Use `zero_division` parameter to control this behavior.\n",
      "  _warn_prf(average, modifier, f\"{metric.capitalize()} is\", len(result))\n"
     ]
    },
    {
     "name": "stdout",
     "output_type": "stream",
     "text": [
      "[Epoch 1/3] Loss: 15.1477\n",
      "[Epoch 2/3] Loss: 14.0225\n",
      "[Epoch 3/3] Loss: 10.0232\n",
      "\n",
      "🧪 Training/Evaluating: No CLAR\n"
     ]
    },
    {
     "name": "stderr",
     "output_type": "stream",
     "text": [
      "/Users/darshdave/.pyenv/versions/3.10.1/lib/python3.10/site-packages/sklearn/metrics/_classification.py:1565: UndefinedMetricWarning: Precision is ill-defined and being set to 0.0 in labels with no predicted samples. Use `zero_division` parameter to control this behavior.\n",
      "  _warn_prf(average, modifier, f\"{metric.capitalize()} is\", len(result))\n"
     ]
    },
    {
     "name": "stdout",
     "output_type": "stream",
     "text": [
      "[Epoch 1/3] Loss: 23.7775\n",
      "[Epoch 2/3] Loss: 19.7914\n",
      "[Epoch 3/3] Loss: 18.3115\n"
     ]
    },
    {
     "name": "stderr",
     "output_type": "stream",
     "text": [
      "/Users/darshdave/.pyenv/versions/3.10.1/lib/python3.10/site-packages/sklearn/metrics/_classification.py:1565: UndefinedMetricWarning: Precision is ill-defined and being set to 0.0 in labels with no predicted samples. Use `zero_division` parameter to control this behavior.\n",
      "  _warn_prf(average, modifier, f\"{metric.capitalize()} is\", len(result))\n"
     ]
    }
   ],
   "source": [
    "results = {}\n",
    "\n",
    "for name, model in ablations.items():\n",
    "    print(f\"\\n🧪 Training/Evaluating: {name}\")\n",
    "    model.to(device)\n",
    "\n",
    "    optimizer = optim.Adam(model.parameters(), lr=1e-4)\n",
    "    criterion_cls = nn.CrossEntropyLoss()\n",
    "    criterion_bbox = nn.MSELoss()\n",
    "    criterion_mask = nn.BCELoss()\n",
    "\n",
    "    # Train for a few epochs\n",
    "    model.train()\n",
    "    for epoch in range(3):\n",
    "        running_loss = 0.0\n",
    "        for images, labels in train_loader:\n",
    "            images, labels = images.to(device), labels.to(device) - 1\n",
    "\n",
    "            logits, bbox, mask = model(images)\n",
    "            loss = criterion_cls(logits, labels)\n",
    "            if model.use_boundary_head:\n",
    "                loss += criterion_mask(mask, torch.rand_like(mask))\n",
    "            loss += criterion_bbox(bbox, torch.randn_like(bbox))\n",
    "            optimizer.zero_grad()\n",
    "            loss.backward()\n",
    "            optimizer.step()\n",
    "            running_loss += loss.item()\n",
    "        print(f\"[Epoch {epoch+1}/3] Loss: {running_loss:.4f}\")\n",
    "\n",
    "    # Save model checkpoint\n",
    "    torch.save(model.state_dict(), os.path.join(model_dir, f\"{name.replace(' ', '_')}.pt\"))\n",
    "\n",
    "    # Evaluate on test set\n",
    "    model.eval()\n",
    "    all_preds, all_labels = [], []\n",
    "    with torch.no_grad():\n",
    "        for images, labels in test_loader:\n",
    "            images = images.to(device)\n",
    "            labels = labels.to(device) - 1\n",
    "            logits, _, _ = model(images)\n",
    "            preds = torch.argmax(logits, dim=1)\n",
    "            all_preds.extend(preds.cpu().numpy())\n",
    "            all_labels.extend(labels.cpu().numpy())\n",
    "\n",
    "    metrics = compute_classification_metrics(all_labels, all_preds)\n",
    "    results[name] = metrics"
   ]
  },
  {
   "cell_type": "code",
   "execution_count": 9,
   "metadata": {},
   "outputs": [
    {
     "name": "stdout",
     "output_type": "stream",
     "text": [
      "\n",
      "📊 Ablation Study Results:\n",
      "                 Accuracy        F1 Precision Recall\n",
      "Full HSViT            0.9  0.473684      0.45    0.5\n",
      "No TCM                0.9  0.473684      0.45    0.5\n",
      "No Boundary Head      0.9  0.473684      0.45    0.5\n",
      "No CLAR               0.9  0.473684      0.45    0.5\n"
     ]
    },
    {
     "data": {
      "image/png": "[encoded data removed]",
      "text/plain": [
       "<Figure size 1000x500 with 1 Axes>"
      ]
     },
     "metadata": {},
     "output_type": "display_data"
    }
   ],
   "source": [
    "import pandas as pd\n",
    "results_df = pd.DataFrame(results).T[['Accuracy', 'F1', 'Precision', 'Recall']]\n",
    "print(\"\\n📊 Ablation Study Results:\")\n",
    "print(results_df)\n",
    "\n",
    "# Bar Plot\n",
    "results_df.plot(kind='bar', figsize=(10, 5), colormap='Set2')\n",
    "plt.title(\"HSViT Ablation Study Metrics\")\n",
    "plt.ylabel(\"Score\")\n",
    "plt.xticks(rotation=15)\n",
    "plt.ylim(0, 1.1)\n",
    "plt.grid(True, axis='y', linestyle='--', alpha=0.6)\n",
    "plt.tight_layout()\n",
    "plt.show()"
   ]
  },
  {
   "cell_type": "code",
   "execution_count": null,
   "metadata": {},
   "outputs": [],
   "source": []
  }
 ],
 "metadata": {
  "kernelspec": {
   "display_name": "Python 3",
   "language": "python",
   "name": "python3"
  },
  "language_info": {
   "codemirror_mode": {
    "name": "ipython",
    "version": 3
   },
   "file_extension": ".py",
   "mimetype": "text/x-python",
   "name": "python",
   "nbconvert_exporter": "python",
   "pygments_lexer": "ipython3",
   "version": "3.10.1"
  }
 },
 "nbformat": 4,
 "nbformat_minor": 2
}
