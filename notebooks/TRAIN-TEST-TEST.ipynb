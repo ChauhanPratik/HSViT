{
 "cells": [
  {
   "cell_type": "code",
   "execution_count": 1,
   "metadata": {},
   "outputs": [],
   "source": [
    "import os\n",
    "import torch\n",
    "import torch.nn as nn\n",
    "import torch.optim as optim\n",
    "from torch.utils.data import DataLoader, Subset\n",
    "\n",
    "import sys\n",
    "sys.path.append(\"..\")\n",
    "from hsvit.dataset import BrainTumorDataset\n",
    "from hsvit.model import ViTBackbone"
   ]
  },
  {
   "cell_type": "code",
   "execution_count": 2,
   "metadata": {},
   "outputs": [],
   "source": [
    "device = torch.device(\"cuda\" if torch.cuda.is_available() else \"cpu\")\n",
    "root_dir = \"/Users/darshdave/Documents/BRAINTUMOR/DATASET/FILES/\""
   ]
  },
  {
   "cell_type": "code",
   "execution_count": 3,
   "metadata": {},
   "outputs": [],
   "source": [
    "dataset = BrainTumorDataset(root_dir)\n",
    "test_subset = Subset(dataset, list(range(10)))\n",
    "test_loader = DataLoader(test_subset, batch_size=4, shuffle=True)"
   ]
  },
  {
   "cell_type": "code",
   "execution_count": 4,
   "metadata": {},
   "outputs": [],
   "source": [
    "model = ViTBackbone().to(device)\n",
    "criterion_cls = nn.CrossEntropyLoss()\n",
    "criterion_bbox = nn.MSELoss()\n",
    "criterion_mask = nn.BCELoss()\n",
    "optimizer = optim.Adam(model.parameters(), lr=1e-4)"
   ]
  },
  {
   "cell_type": "code",
   "execution_count": 5,
   "metadata": {},
   "outputs": [
    {
     "name": "stdout",
     "output_type": "stream",
     "text": [
      "[Epoch 1/3] Loss: 9.1687 | Accuracy: 70.00%\n",
      "[Epoch 2/3] Loss: 7.2277 | Accuracy: 70.00%\n",
      "[Epoch 3/3] Loss: 6.5107 | Accuracy: 70.00%\n"
     ]
    }
   ],
   "source": [
    "EPOCHS = 3\n",
    "for epoch in range(EPOCHS):\n",
    "    model.train()\n",
    "    epoch_loss = 0.0\n",
    "\n",
    "    for images, labels in test_loader:\n",
    "        images = images.to(device)\n",
    "        labels = labels.to(device) - 1  # Ensure 0-based labels\n",
    "\n",
    "        class_logits, bbox_preds, boundary_preds = model(images)\n",
    "\n",
    "        bbox_targets = torch.randn_like(bbox_preds).to(device)\n",
    "        mask_targets = torch.rand_like(boundary_preds).to(device)  # Valid [0, 1] range for BCE\n",
    "\n",
    "        loss_cls = criterion_cls(class_logits, labels)\n",
    "        loss_bbox = criterion_bbox(bbox_preds, bbox_targets)\n",
    "        loss_mask = criterion_mask(boundary_preds, mask_targets)\n",
    "\n",
    "        loss = loss_cls + loss_bbox + loss_mask\n",
    "\n",
    "        optimizer.zero_grad()\n",
    "        loss.backward()\n",
    "        optimizer.step()\n",
    "\n",
    "        epoch_loss += loss.item()\n",
    "\n",
    "        correct = 0\n",
    "    total = 0\n",
    "    model.eval()\n",
    "    with torch.no_grad():\n",
    "        for images, labels in test_loader:\n",
    "            images = images.to(device)\n",
    "            labels = labels.to(device) - 1\n",
    "            class_logits, _, _ = model(images)\n",
    "            preds = torch.argmax(class_logits, dim=1)\n",
    "            correct += (preds == labels).sum().item()\n",
    "            total += labels.size(0)\n",
    "    acc = 100.0 * correct / total\n",
    "    print(f\"[Epoch {epoch+1}/{EPOCHS}] Loss: {epoch_loss:.4f} | Accuracy: {acc:.2f}%\")\n"
   ]
  },
  {
   "cell_type": "code",
   "execution_count": null,
   "metadata": {},
   "outputs": [],
   "source": []
  },
  {
   "cell_type": "code",
   "execution_count": null,
   "metadata": {},
   "outputs": [],
   "source": []
  }
 ],
 "metadata": {
  "kernelspec": {
   "display_name": "Python 3",
   "language": "python",
   "name": "python3"
  },
  "language_info": {
   "codemirror_mode": {
    "name": "ipython",
    "version": 3
   },
   "file_extension": ".py",
   "mimetype": "text/x-python",
   "name": "python",
   "nbconvert_exporter": "python",
   "pygments_lexer": "ipython3",
   "version": "3.10.1"
  }
 },
 "nbformat": 4,
 "nbformat_minor": 2
}
